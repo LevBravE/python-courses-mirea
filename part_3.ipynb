{
 "cells": [
  {
   "cell_type": "code",
   "execution_count": 1,
   "outputs": [],
   "source": [
    "from pprint import pprint"
   ],
   "metadata": {
    "collapsed": false,
    "pycharm": {
     "name": "#%%\n"
    }
   }
  },
  {
   "cell_type": "markdown",
   "source": [
    "## Выборка информации\n",
    "Представьте что вы ищете работу среди многочисленных вакансий и вы хотите найти все вакансии с зарплатой по крайней мере 100 000 рублей в месяц."
   ],
   "metadata": {
    "collapsed": false
   }
  },
  {
   "cell_type": "code",
   "execution_count": null,
   "outputs": [],
   "source": [
    "vacancies = {\n",
    "    'Yandex': 100000,\n",
    "    'IT-Hub': 80000,\n",
    "    'X5-Retail': 55000,\n",
    "    'VK': 120000,\n",
    "    'Innopolis': 88000,\n",
    "}\n",
    "top_company = []\n",
    "for key, val in vacancies.items():\n",
    "    if val >= 100000:\n",
    "        top_company.append((key, val))\n",
    "\n",
    "pprint(top_company)"
   ],
   "metadata": {
    "collapsed": false,
    "pycharm": {
     "name": "#%%\n",
     "is_executing": true
    }
   }
  },
  {
   "cell_type": "markdown",
   "source": [
    ".\n",
    ".\n",
    "."
   ],
   "metadata": {
    "collapsed": false
   }
  },
  {
   "cell_type": "code",
   "execution_count": null,
   "outputs": [],
   "source": [
    "top_company = [(k, v) for k, v in vacancies.items() if v >= 100000]\n",
    "pprint(top_company)"
   ],
   "metadata": {
    "collapsed": false,
    "pycharm": {
     "name": "#%%\n",
     "is_executing": true
    }
   }
  },
  {
   "cell_type": "markdown",
   "source": [
    "## Поиск информативных слов\n",
    "При реализации поисковых систем часто отфильтровывают слова, не несущие особого значения.\n",
    "Простейщий способ - отфильтровать все слова из трех или меньше букв."
   ],
   "metadata": {
    "collapsed": false
   }
  },
  {
   "cell_type": "code",
   "execution_count": null,
   "outputs": [],
   "source": [
    "text = '''\n",
    "Старый дуб, весь преображенный, раскинувшись шатром сочной, темной зелени, млел, чуть колыхаясь в лучах вечернего солнца.\n",
    "Ни корявых пальцев, ни болячек, ни старого горя и недоверия — ничего не было видно. Сквозь столетнюю жесткую кору пробились\n",
    "без сучков сочные, молодые листья, так что верить нельзя было, что это старик произвел их.\n",
    "'''\n",
    "\n",
    "result = [[x for x in line.split() if len(x) > 3] for line in text.split('\\n')]\n",
    "pprint(result)"
   ],
   "metadata": {
    "collapsed": false,
    "pycharm": {
     "name": "#%%\n",
     "is_executing": true
    }
   }
  },
  {
   "cell_type": "markdown",
   "source": [
    "##  Чтение из файла"
   ],
   "metadata": {
    "collapsed": false,
    "pycharm": {
     "name": "#%% md\n"
    }
   }
  },
  {
   "cell_type": "code",
   "execution_count": null,
   "outputs": [],
   "source": [
    "filename = 'part_3.ipynb'\n",
    "\n",
    "f = open(filename)\n",
    "lines = []\n",
    "for line in f:\n",
    "    lines.append(line.strip())\n",
    "\n",
    "pprint(lines)"
   ],
   "metadata": {
    "collapsed": false,
    "pycharm": {
     "name": "#%%\n",
     "is_executing": true
    }
   }
  },
  {
   "cell_type": "code",
   "execution_count": null,
   "outputs": [],
   "source": [
    "pprint([line.strip() for line in open('part_3.ipynb')])"
   ],
   "metadata": {
    "collapsed": false,
    "pycharm": {
     "name": "#%%\n",
     "is_executing": true
    }
   }
  },
  {
   "cell_type": "markdown",
   "source": [
    "## Лямбда-функции\n",
    "Находим все новости в которых упоминается РТУ МИРЭА"
   ],
   "metadata": {
    "collapsed": false,
    "pycharm": {
     "name": "#%% md\n"
    }
   }
  },
  {
   "cell_type": "code",
   "execution_count": null,
   "outputs": [],
   "source": [
    "txt = [\n",
    "    'Подведены итоги конкурса на получение именной стипендии президента РТУ МИРЭА А.С. Сигова',\n",
    "    'Подведены итоги конкурса на получение повышенной государственной академической стипендии МГУ',\n",
    "    'В МГИМО состоялась шестая лекция в рамках «Школы катализа»',\n",
    "    'Спортсмены РТУ МИРЭА заняли первое место в Клубном турнире',\n",
    "]\n",
    "\n",
    "result = map(lambda s: (True, s) if 'РТУ МИРЭА' in s else (False, s), txt)\n",
    "pprint(list(result))"
   ],
   "metadata": {
    "collapsed": false,
    "pycharm": {
     "name": "#%%\n",
     "is_executing": true
    }
   }
  },
  {
   "cell_type": "markdown",
   "source": [
    "## Срезы\n",
    "Взятие контекста искомого выражения"
   ],
   "metadata": {
    "collapsed": false,
    "pycharm": {
     "name": "#%% md\n"
    }
   }
  },
  {
   "cell_type": "code",
   "execution_count": null,
   "outputs": [],
   "source": [
    "text = '''\n",
    "Старый дуб, весь преображенный, раскинувшись шатром сочной, темной зелени, млел, чуть колыхаясь в лучах вечернего солнца.\n",
    "Ни корявых пальцев, ни болячек, ни старого горя и недоверия — ничего не было видно. Сквозь столетнюю жесткую кору пробились\n",
    "без сучков сочные, молодые листья, так что верить нельзя было, что это старик произвел их.\n",
    "'''\n",
    "\n",
    "find = lambda x, q: x[x.find(q)-18:x.find(q)+18] if q in x else -1\n",
    "print(find(text, 'млел'))"
   ],
   "metadata": {
    "collapsed": false,
    "pycharm": {
     "name": "#%%\n",
     "is_executing": true
    }
   }
  },
  {
   "cell_type": "markdown",
   "source": [
    "## Списочные выражения и срезы\n",
    "Задача любым способом сжать картинку, на ум приходить алгоритм при котором можно снизить кол-во пикселей в два раза удалив каждый второй пиксель"
   ],
   "metadata": {
    "collapsed": false,
    "pycharm": {
     "name": "#%% md\n"
    }
   }
  },
  {
   "cell_type": "code",
   "execution_count": null,
   "outputs": [],
   "source": [
    "photo = [\n",
    "    [(10, 0, 10), (12, 0, 10), (20, 5, 11), (21, 6, 10), (24, 4, 34), (101, 43, 30)],\n",
    "    [(20, 0, 40), (12, 0, 10), (40, 6, 110), (31, 9, 100), (73, 6, 30), (161, 52, 89)],\n",
    "    [(30, 0, 30), (12, 1, 10), (25, 6, 17), (215, 109, 200), (64, 9, 31), (181, 55, 60)],\n",
    "    [(40, 0, 20), (12, 2, 10), (24, 5, 114), (210, 6, 255), (244, 40, 32), (199, 13, 33)],\n",
    "]\n",
    "\n",
    "photo_compressed = [line[::2] for line in photo]\n",
    "pprint(photo_compressed)"
   ],
   "metadata": {
    "collapsed": false,
    "pycharm": {
     "name": "#%%\n",
     "is_executing": true
    }
   }
  },
  {
   "cell_type": "markdown",
   "source": [
    "## Списки и срезы\n",
    "Замена каждого второго значения в списке на непосредственно предыдущее ему"
   ],
   "metadata": {
    "collapsed": false,
    "pycharm": {
     "name": "#%% md\n"
    }
   }
  },
  {
   "cell_type": "code",
   "execution_count": null,
   "outputs": [],
   "source": [
    "data = [1, 2, 3, 4, 5, 6, 7, 8, 9, 10]\n",
    "\n",
    "data[1::2] = data[::2]\n",
    "print(data)"
   ],
   "metadata": {
    "collapsed": false,
    "pycharm": {
     "name": "#%%\n",
     "is_executing": true
    }
   }
  },
  {
   "cell_type": "markdown",
   "source": [
    "## Наглядность вывода данных\n",
    "Визуализация куса $"
   ],
   "metadata": {
    "collapsed": false,
    "pycharm": {
     "name": "#%% md\n"
    }
   }
  },
  {
   "cell_type": "code",
   "execution_count": null,
   "outputs": [],
   "source": [
    "import matplotlib.pyplot as plt\n",
    "\n",
    "data = [62, 60, 67, 74, 78, 77, 80, 95, 103]\n",
    "\n",
    "plt.plot(data)\n",
    "plt.show()"
   ],
   "metadata": {
    "collapsed": false,
    "pycharm": {
     "name": "#%%\n",
     "is_executing": true
    }
   }
  },
  {
   "cell_type": "markdown",
   "source": [
    "## Налоговая\n",
    "Задача найти работодателей которые платят меньше МРОТ, чтобы их ..."
   ],
   "metadata": {
    "collapsed": false,
    "pycharm": {
     "name": "#%% md\n"
    }
   }
  },
  {
   "cell_type": "code",
   "execution_count": null,
   "outputs": [],
   "source": [
    "companies = {\n",
    "    'Yandex': {'Андрей': 22000, 'Иван': 55000, 'Вадим': 90000},\n",
    "    'VK': {'Оля': 120000, 'Эльдар': 65000, 'Екатерина': 98000},\n",
    "    'ООО Ромашка': {'Никита': 30000, 'Григорий': 15000, 'Настя': 26000},\n",
    "}\n",
    "\n",
    "result = [x for x in companies if any(y<18000 for y in companies[x].values())]\n",
    "pprint(result)"
   ],
   "metadata": {
    "collapsed": false,
    "pycharm": {
     "name": "#%%\n",
     "is_executing": true
    }
   }
  },
  {
   "cell_type": "markdown",
   "source": [
    "## Функция zip\n",
    "Задача - выставить набору данных названия колонок для более информативного вывода"
   ],
   "metadata": {
    "collapsed": false,
    "pycharm": {
     "name": "#%% md\n"
    }
   }
  },
  {
   "cell_type": "code",
   "execution_count": null,
   "outputs": [],
   "source": [
    "column_names = ['Компания', 'Зарплата']\n",
    "vacancies = [\n",
    "    ('Yandex', 100000),\n",
    "    ('IT-Hub', 80000),\n",
    "    ('X5-Retail', 55000),\n",
    "    ('VK', 120000),\n",
    "    ('Innopolis', 88000),\n",
    "]\n",
    "\n",
    "result = [dict(zip(column_names, row)) for row in vacancies]\n",
    "pprint(result)"
   ],
   "metadata": {
    "collapsed": false,
    "pycharm": {
     "name": "#%%\n",
     "is_executing": true
    }
   }
  }
 ],
 "metadata": {
  "celltoolbar": "Слайд-шоу",
  "kernelspec": {
   "display_name": "Python 3 (ipykernel)",
   "language": "python",
   "name": "python3"
  },
  "language_info": {
   "codemirror_mode": {
    "name": "ipython",
    "version": 3
   },
   "file_extension": ".py",
   "mimetype": "text/x-python",
   "name": "python",
   "nbconvert_exporter": "python",
   "pygments_lexer": "ipython3",
   "version": "3.10.3"
  }
 },
 "nbformat": 4,
 "nbformat_minor": 1
}